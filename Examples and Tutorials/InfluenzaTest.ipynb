{
 "cells": [
  {
   "cell_type": "code",
   "execution_count": 1,
   "metadata": {},
   "outputs": [],
   "source": [
    "import cubewalkers as cw\n",
    "import cupy as cp\n",
    "from cana.datasets.bio import load_all_cell_collective_models"
   ]
  },
  {
   "cell_type": "code",
   "execution_count": 2,
   "metadata": {},
   "outputs": [
    {
     "name": "stdout",
     "output_type": "stream",
     "text": [
      "Influenza A Virus Replication Cycle\n"
     ]
    }
   ],
   "source": [
    "CCMs=load_all_cell_collective_models()\n",
    "BN=CCMs[36]\n",
    "print(BN.name)"
   ]
  },
  {
   "cell_type": "code",
   "execution_count": 3,
   "metadata": {},
   "outputs": [],
   "source": [
    "model = cw.Model(cw.conversions.network_rules_from_cana(BN)) \n",
    "N = model.n_variables"
   ]
  },
  {
   "cell_type": "code",
   "execution_count": 93,
   "metadata": {},
   "outputs": [],
   "source": [
    "samples = []\n",
    "max_diff = 0 \n",
    "model.n_time_steps=N**2\n",
    "model.n_walkers=2000\n",
    "T_window=N*4\n",
    "for i in range(100):\n",
    "    model.simulate_ensemble(\n",
    "        maskfunction=cw.update_schemes.asynchronous,\n",
    "        T_window=T_window,\n",
    "        averages_only=True,\n",
    "        threads_per_block=(16,16))\n",
    "    tw1 = model.trajectories[0:T_window/2]\n",
    "    tw2 = model.trajectories[T_window/2:]\n",
    "    diff = cp.max(cp.abs(tw1.mean(axis=0) - tw2.mean(axis=0)))\n",
    "    if max_diff < diff:\n",
    "        max_diff = diff\n",
    "    samples.append(cp.mean(model.trajectories,axis=0))\n",
    "    \n",
    "samples = cp.array(samples)"
   ]
  },
  {
   "cell_type": "code",
   "execution_count": 94,
   "metadata": {},
   "outputs": [
    {
     "name": "stdout",
     "output_type": "stream",
     "text": [
      "Node averages: [3.62345420e-03 6.05753817e-04 4.26000000e-03 1.19850000e-02\n",
      " 1.04000000e-02 1.77000000e-03 1.46600000e-02 3.88500000e-03\n",
      " 4.26000000e-03 3.82500000e-03 1.46500000e-02 1.46600000e-02\n",
      " 4.78000000e-03 4.26000000e-03 4.19500000e-03 1.51800000e-02\n",
      " 1.19850000e-02 1.51800000e-02 1.51800000e-02 1.19850000e-02\n",
      " 1.45950000e-02 4.25000000e-03 1.45950000e-02 4.78000000e-03\n",
      " 2.14200000e-02 1.46350000e-02 1.19850000e-02 6.13129771e-04\n",
      " 4.78000000e-03 6.61173664e-04 4.78000000e-03 1.30500000e-03\n",
      " 3.62052481e-03 1.30500000e-03 1.05800000e-02 1.46350000e-02\n",
      " 9.83500000e-03 1.19850000e-02 4.23500000e-03 4.23500000e-03\n",
      " 1.46350000e-02 3.63000000e-02 3.22312977e-03 3.50700000e-02\n",
      " 3.59842557e-03 4.78000000e-03 1.19850000e-02 4.26000000e-03\n",
      " 3.87000000e-03 4.86000000e-01 4.78000000e-03 4.78000000e-03\n",
      " 5.91500000e-03 1.46600000e-02 4.78000000e-03 4.78000000e-03\n",
      " 2.32500000e-01 6.10000000e-02 1.46500000e-02 1.51800000e-02\n",
      " 1.45950000e-02 4.78000000e-03 1.30500000e-03 1.19850000e-02\n",
      " 1.46350000e-02 4.26000000e-03 4.78000000e-03 1.46600000e-02\n",
      " 4.25000000e-03 1.46500000e-02 4.78000000e-03 6.29103053e-04\n",
      " 4.78000000e-03 1.19850000e-02 3.50700000e-02 2.32500000e-01\n",
      " 7.96755725e-06 1.46500000e-02 1.46600000e-02 1.51800000e-02\n",
      " 4.26000000e-03 1.51800000e-02 6.30200382e-04 1.46600000e-02\n",
      " 3.62647901e-03 2.32500000e-01 4.26000000e-03 1.51800000e-02\n",
      " 6.23721374e-04 4.23500000e-03 1.51800000e-02 2.12500000e-03\n",
      " 3.21129771e-03 3.63000000e-02 4.19500000e-03 1.51800000e-02\n",
      " 1.51800000e-02 1.46600000e-02 4.25000000e-03 1.51800000e-02\n",
      " 1.51800000e-02 3.62495229e-03 1.19850000e-02 1.46500000e-02\n",
      " 1.46500000e-02 1.46600000e-02 3.63000000e-02 1.51800000e-02\n",
      " 1.51800000e-02 4.26000000e-03 1.51800000e-02 1.51800000e-02\n",
      " 1.45950000e-02 6.54704198e-04 4.78000000e-03 3.22875000e-03\n",
      " 1.51800000e-02 1.46500000e-02 4.19500000e-03 6.18969466e-04\n",
      " 5.00000000e-01 4.89000000e-01 4.93500000e-01 5.00000000e-01\n",
      " 5.23500000e-01 5.02500000e-01 4.83000000e-01 4.93000000e-01\n",
      " 4.98500000e-01 4.87500000e-01 4.86000000e-01]\n",
      "Max sample variance:\t 3.6942750000000016e-06\n",
      "Max sample spread:\t 0.01099999999999999\n",
      "Max window difference:\t 0.0011335877862595429\n"
     ]
    }
   ],
   "source": [
    "print(\"Node averages:\",samples.mean(axis=0))\n",
    "print(\"Max sample variance:\\t\", samples.var(axis=0).max())\n",
    "print(\"Max sample spread:\\t\",cp.max(samples.max(axis=0)-samples.min(axis=0)))\n",
    "print(\"Max window difference:\\t\",max_diff)"
   ]
  },
  {
   "cell_type": "code",
   "execution_count": null,
   "metadata": {},
   "outputs": [],
   "source": []
  }
 ],
 "metadata": {
  "kernelspec": {
   "display_name": "Python 3.10.4 64-bit",
   "language": "python",
   "name": "python3"
  },
  "language_info": {
   "codemirror_mode": {
    "name": "ipython",
    "version": 3
   },
   "file_extension": ".py",
   "mimetype": "text/x-python",
   "name": "python",
   "nbconvert_exporter": "python",
   "pygments_lexer": "ipython3",
   "version": "3.10.6"
  },
  "orig_nbformat": 4,
  "vscode": {
   "interpreter": {
    "hash": "916dbcbb3f70747c44a77c7bcd40155683ae19c65e1c03b4aa3499c5328201f1"
   }
  }
 },
 "nbformat": 4,
 "nbformat_minor": 2
}
